{
 "cells": [
  {
   "cell_type": "markdown",
   "metadata": {},
   "source": [
    "## Importing required libraries"
   ]
  },
  {
   "cell_type": "code",
   "execution_count": 1,
   "metadata": {},
   "outputs": [],
   "source": [
    "import pandas as pd\n",
    "from datetime import datetime\n",
    "from matplotlib import pyplot as plt\n",
    "import numpy as np\n",
    "from sklearn.feature_extraction.text import TfidfVectorizer\n",
    "from sklearn.neighbors import KNeighborsRegressor\n",
    "from sklearn.linear_model import Lasso\n",
    "from sklearn.ensemble import RandomForestRegressor\n",
    "from sklearn.neighbors import KNeighborsRegressor\n",
    "from sklearn.preprocessing import MinMaxScaler\n",
    "import seaborn as sns\n",
    "from sklearn.model_selection import cross_val_score"
   ]
  },
  {
   "cell_type": "markdown",
   "metadata": {},
   "source": [
    "## Loading the dataset"
   ]
  },
  {
   "cell_type": "code",
   "execution_count": 2,
   "metadata": {},
   "outputs": [
    {
     "data": {
      "text/html": [
       "<div>\n",
       "<style scoped>\n",
       "    .dataframe tbody tr th:only-of-type {\n",
       "        vertical-align: middle;\n",
       "    }\n",
       "\n",
       "    .dataframe tbody tr th {\n",
       "        vertical-align: top;\n",
       "    }\n",
       "\n",
       "    .dataframe thead th {\n",
       "        text-align: right;\n",
       "    }\n",
       "</style>\n",
       "<table border=\"1\" class=\"dataframe\">\n",
       "  <thead>\n",
       "    <tr style=\"text-align: right;\">\n",
       "      <th></th>\n",
       "      <th>Tweet ID</th>\n",
       "      <th>Username</th>\n",
       "      <th>Timestamp</th>\n",
       "      <th>#Followers</th>\n",
       "      <th>#Friends</th>\n",
       "      <th>#Retweets</th>\n",
       "      <th>#Favorites</th>\n",
       "      <th>Entities</th>\n",
       "      <th>Sentiment</th>\n",
       "      <th>Mentions</th>\n",
       "      <th>Hashtags</th>\n",
       "      <th>URLs</th>\n",
       "    </tr>\n",
       "  </thead>\n",
       "  <tbody>\n",
       "    <tr>\n",
       "      <td>0</td>\n",
       "      <td>1178791787386814465</td>\n",
       "      <td>35234fe4a19cc1a3336095fb3780bcc1</td>\n",
       "      <td>Mon Sep 30 22:00:37 +0000 2019</td>\n",
       "      <td>619</td>\n",
       "      <td>770</td>\n",
       "      <td>0</td>\n",
       "      <td>0</td>\n",
       "      <td>null;</td>\n",
       "      <td>2 -1</td>\n",
       "      <td>null;</td>\n",
       "      <td>null;</td>\n",
       "      <td>null;</td>\n",
       "    </tr>\n",
       "    <tr>\n",
       "      <td>1</td>\n",
       "      <td>1178791985106153472</td>\n",
       "      <td>ea4592f39636d87af8fb4b17b7e2e4c0</td>\n",
       "      <td>Mon Sep 30 22:01:24 +0000 2019</td>\n",
       "      <td>36365</td>\n",
       "      <td>19344</td>\n",
       "      <td>13</td>\n",
       "      <td>17</td>\n",
       "      <td>nazi:Nazism:-2.742538749414189;blood money:Blo...</td>\n",
       "      <td>1 -4</td>\n",
       "      <td>null;</td>\n",
       "      <td>null;</td>\n",
       "      <td>https://twitter.com/himalayahawk/status/117766...</td>\n",
       "    </tr>\n",
       "    <tr>\n",
       "      <td>2</td>\n",
       "      <td>1178793230223183872</td>\n",
       "      <td>bf05d1888dd974fa4a8679c25e2ead03</td>\n",
       "      <td>Mon Sep 30 22:06:21 +0000 2019</td>\n",
       "      <td>5018</td>\n",
       "      <td>1933</td>\n",
       "      <td>0</td>\n",
       "      <td>0</td>\n",
       "      <td>vaccine:Vaccine:-2.6651530673745762;anti vaxxe...</td>\n",
       "      <td>2 -1</td>\n",
       "      <td>null;</td>\n",
       "      <td>null;</td>\n",
       "      <td>https://goo.gl/fb/uoeiPk:-:</td>\n",
       "    </tr>\n",
       "    <tr>\n",
       "      <td>3</td>\n",
       "      <td>1178795172206919680</td>\n",
       "      <td>eb8a99bca8945eab1d006750e9b75518</td>\n",
       "      <td>Mon Sep 30 22:14:04 +0000 2019</td>\n",
       "      <td>2219</td>\n",
       "      <td>971</td>\n",
       "      <td>0</td>\n",
       "      <td>0</td>\n",
       "      <td>muse:Muse_%28band%29:-2.1677823918620867;talki...</td>\n",
       "      <td>2 -1</td>\n",
       "      <td>null;</td>\n",
       "      <td>null;</td>\n",
       "      <td>null;</td>\n",
       "    </tr>\n",
       "    <tr>\n",
       "      <td>4</td>\n",
       "      <td>1178798309491822592</td>\n",
       "      <td>00695cf79d60e86a5d0f872f4358337a</td>\n",
       "      <td>Mon Sep 30 22:26:32 +0000 2019</td>\n",
       "      <td>9009</td>\n",
       "      <td>4943</td>\n",
       "      <td>26</td>\n",
       "      <td>89</td>\n",
       "      <td>people of northern ireland:People_of_Northern_...</td>\n",
       "      <td>2 -1</td>\n",
       "      <td>null;</td>\n",
       "      <td>VFS</td>\n",
       "      <td>null;</td>\n",
       "    </tr>\n",
       "    <tr>\n",
       "      <td>5</td>\n",
       "      <td>1178801459439296514</td>\n",
       "      <td>6ff6c6532fe0c399dcedd1dad6249c28</td>\n",
       "      <td>Mon Sep 30 22:39:03 +0000 2019</td>\n",
       "      <td>284</td>\n",
       "      <td>935</td>\n",
       "      <td>0</td>\n",
       "      <td>0</td>\n",
       "      <td>cnn:CNN:-0.9113024985533761;</td>\n",
       "      <td>3 -2</td>\n",
       "      <td>null;</td>\n",
       "      <td>null;</td>\n",
       "      <td>null;</td>\n",
       "    </tr>\n",
       "    <tr>\n",
       "      <td>6</td>\n",
       "      <td>1178802464914657286</td>\n",
       "      <td>dbd298dfc487b7e6a7e220439dc91983</td>\n",
       "      <td>Mon Sep 30 22:43:03 +0000 2019</td>\n",
       "      <td>3605</td>\n",
       "      <td>3526</td>\n",
       "      <td>5</td>\n",
       "      <td>13</td>\n",
       "      <td>null;</td>\n",
       "      <td>3 -1</td>\n",
       "      <td>null;</td>\n",
       "      <td>null;</td>\n",
       "      <td>null;</td>\n",
       "    </tr>\n",
       "    <tr>\n",
       "      <td>7</td>\n",
       "      <td>1178803230962327555</td>\n",
       "      <td>c3df67279d13e650c44d529c92476d30</td>\n",
       "      <td>Mon Sep 30 22:46:06 +0000 2019</td>\n",
       "      <td>5945</td>\n",
       "      <td>47</td>\n",
       "      <td>1</td>\n",
       "      <td>6</td>\n",
       "      <td>youtube:YouTube:-1.0295623705363122;super bowl...</td>\n",
       "      <td>3 -1</td>\n",
       "      <td>YouTube</td>\n",
       "      <td>null;</td>\n",
       "      <td>https://www.youtube.com/watch?v=jWdhOfNmLsE&amp;fe...</td>\n",
       "    </tr>\n",
       "    <tr>\n",
       "      <td>8</td>\n",
       "      <td>1178803487037108225</td>\n",
       "      <td>fc48c9cc30420a1af599e735a14b0b8a</td>\n",
       "      <td>Mon Sep 30 22:47:07 +0000 2019</td>\n",
       "      <td>156538</td>\n",
       "      <td>3858</td>\n",
       "      <td>56</td>\n",
       "      <td>131</td>\n",
       "      <td>vontaze burfict:Vontaze_Burfict:-0.77486020920...</td>\n",
       "      <td>1 -1</td>\n",
       "      <td>null;</td>\n",
       "      <td>Raiders</td>\n",
       "      <td>null;</td>\n",
       "    </tr>\n",
       "    <tr>\n",
       "      <td>9</td>\n",
       "      <td>1178803977376415749</td>\n",
       "      <td>f734f2f2c94d7de900d18c59cc858d48</td>\n",
       "      <td>Mon Sep 30 22:49:03 +0000 2019</td>\n",
       "      <td>27014</td>\n",
       "      <td>24488</td>\n",
       "      <td>39</td>\n",
       "      <td>37</td>\n",
       "      <td>winter storm:Winter_storm:-1.9824755199970392;...</td>\n",
       "      <td>2 -1</td>\n",
       "      <td>AOC</td>\n",
       "      <td>null;</td>\n",
       "      <td>https://mtstandard.com/news/local/winter-storm...</td>\n",
       "    </tr>\n",
       "  </tbody>\n",
       "</table>\n",
       "</div>"
      ],
      "text/plain": [
       "              Tweet ID                          Username  \\\n",
       "0  1178791787386814465  35234fe4a19cc1a3336095fb3780bcc1   \n",
       "1  1178791985106153472  ea4592f39636d87af8fb4b17b7e2e4c0   \n",
       "2  1178793230223183872  bf05d1888dd974fa4a8679c25e2ead03   \n",
       "3  1178795172206919680  eb8a99bca8945eab1d006750e9b75518   \n",
       "4  1178798309491822592  00695cf79d60e86a5d0f872f4358337a   \n",
       "5  1178801459439296514  6ff6c6532fe0c399dcedd1dad6249c28   \n",
       "6  1178802464914657286  dbd298dfc487b7e6a7e220439dc91983   \n",
       "7  1178803230962327555  c3df67279d13e650c44d529c92476d30   \n",
       "8  1178803487037108225  fc48c9cc30420a1af599e735a14b0b8a   \n",
       "9  1178803977376415749  f734f2f2c94d7de900d18c59cc858d48   \n",
       "\n",
       "                        Timestamp  #Followers  #Friends  #Retweets  \\\n",
       "0  Mon Sep 30 22:00:37 +0000 2019         619       770          0   \n",
       "1  Mon Sep 30 22:01:24 +0000 2019       36365     19344         13   \n",
       "2  Mon Sep 30 22:06:21 +0000 2019        5018      1933          0   \n",
       "3  Mon Sep 30 22:14:04 +0000 2019        2219       971          0   \n",
       "4  Mon Sep 30 22:26:32 +0000 2019        9009      4943         26   \n",
       "5  Mon Sep 30 22:39:03 +0000 2019         284       935          0   \n",
       "6  Mon Sep 30 22:43:03 +0000 2019        3605      3526          5   \n",
       "7  Mon Sep 30 22:46:06 +0000 2019        5945        47          1   \n",
       "8  Mon Sep 30 22:47:07 +0000 2019      156538      3858         56   \n",
       "9  Mon Sep 30 22:49:03 +0000 2019       27014     24488         39   \n",
       "\n",
       "   #Favorites                                           Entities Sentiment  \\\n",
       "0           0                                              null;      2 -1   \n",
       "1          17  nazi:Nazism:-2.742538749414189;blood money:Blo...      1 -4   \n",
       "2           0  vaccine:Vaccine:-2.6651530673745762;anti vaxxe...      2 -1   \n",
       "3           0  muse:Muse_%28band%29:-2.1677823918620867;talki...      2 -1   \n",
       "4          89  people of northern ireland:People_of_Northern_...      2 -1   \n",
       "5           0                       cnn:CNN:-0.9113024985533761;      3 -2   \n",
       "6          13                                              null;      3 -1   \n",
       "7           6  youtube:YouTube:-1.0295623705363122;super bowl...      3 -1   \n",
       "8         131  vontaze burfict:Vontaze_Burfict:-0.77486020920...      1 -1   \n",
       "9          37  winter storm:Winter_storm:-1.9824755199970392;...      2 -1   \n",
       "\n",
       "  Mentions Hashtags                                               URLs  \n",
       "0    null;    null;                                              null;  \n",
       "1    null;    null;  https://twitter.com/himalayahawk/status/117766...  \n",
       "2    null;    null;                        https://goo.gl/fb/uoeiPk:-:  \n",
       "3    null;    null;                                              null;  \n",
       "4    null;      VFS                                              null;  \n",
       "5    null;    null;                                              null;  \n",
       "6    null;    null;                                              null;  \n",
       "7  YouTube    null;  https://www.youtube.com/watch?v=jWdhOfNmLsE&fe...  \n",
       "8    null;  Raiders                                              null;  \n",
       "9      AOC    null;  https://mtstandard.com/news/local/winter-storm...  "
      ]
     },
     "execution_count": 2,
     "metadata": {},
     "output_type": "execute_result"
    }
   ],
   "source": [
    "data=pd.read_csv(r\"data.csv\")\n",
    "data.head(10)"
   ]
  },
  {
   "cell_type": "markdown",
   "metadata": {},
   "source": [
    "## Pre-processing the data"
   ]
  },
  {
   "cell_type": "code",
   "execution_count": 3,
   "metadata": {},
   "outputs": [],
   "source": [
    "#Extracting hour of tweet, which could be useful\n",
    "data[\"Timestamp\"]=pd.to_datetime(data.iloc[:,2]).apply(lambda x: x.hour)"
   ]
  },
  {
   "cell_type": "code",
   "execution_count": 4,
   "metadata": {},
   "outputs": [
    {
     "data": {
      "text/html": [
       "<div>\n",
       "<style scoped>\n",
       "    .dataframe tbody tr th:only-of-type {\n",
       "        vertical-align: middle;\n",
       "    }\n",
       "\n",
       "    .dataframe tbody tr th {\n",
       "        vertical-align: top;\n",
       "    }\n",
       "\n",
       "    .dataframe thead th {\n",
       "        text-align: right;\n",
       "    }\n",
       "</style>\n",
       "<table border=\"1\" class=\"dataframe\">\n",
       "  <thead>\n",
       "    <tr style=\"text-align: right;\">\n",
       "      <th></th>\n",
       "      <th>Tweet ID</th>\n",
       "      <th>Username</th>\n",
       "      <th>Timestamp</th>\n",
       "      <th>#Followers</th>\n",
       "      <th>#Friends</th>\n",
       "      <th>#Retweets</th>\n",
       "      <th>#Favorites</th>\n",
       "      <th>Entities</th>\n",
       "      <th>Sentiment</th>\n",
       "      <th>Mentions</th>\n",
       "      <th>Hashtags</th>\n",
       "      <th>URLs</th>\n",
       "      <th>Positive_Sentiment</th>\n",
       "      <th>Negative_Sentiment</th>\n",
       "    </tr>\n",
       "  </thead>\n",
       "  <tbody>\n",
       "    <tr>\n",
       "      <td>0</td>\n",
       "      <td>1178791787386814465</td>\n",
       "      <td>35234fe4a19cc1a3336095fb3780bcc1</td>\n",
       "      <td>22</td>\n",
       "      <td>619</td>\n",
       "      <td>770</td>\n",
       "      <td>0</td>\n",
       "      <td>0</td>\n",
       "      <td>null;</td>\n",
       "      <td>2 -1</td>\n",
       "      <td>null;</td>\n",
       "      <td>null;</td>\n",
       "      <td>null;</td>\n",
       "      <td>2</td>\n",
       "      <td>-1</td>\n",
       "    </tr>\n",
       "    <tr>\n",
       "      <td>1</td>\n",
       "      <td>1178791985106153472</td>\n",
       "      <td>ea4592f39636d87af8fb4b17b7e2e4c0</td>\n",
       "      <td>22</td>\n",
       "      <td>36365</td>\n",
       "      <td>19344</td>\n",
       "      <td>13</td>\n",
       "      <td>17</td>\n",
       "      <td>nazi:Nazism:-2.742538749414189;blood money:Blo...</td>\n",
       "      <td>1 -4</td>\n",
       "      <td>null;</td>\n",
       "      <td>null;</td>\n",
       "      <td>https://twitter.com/himalayahawk/status/117766...</td>\n",
       "      <td>1</td>\n",
       "      <td>-4</td>\n",
       "    </tr>\n",
       "    <tr>\n",
       "      <td>2</td>\n",
       "      <td>1178793230223183872</td>\n",
       "      <td>bf05d1888dd974fa4a8679c25e2ead03</td>\n",
       "      <td>22</td>\n",
       "      <td>5018</td>\n",
       "      <td>1933</td>\n",
       "      <td>0</td>\n",
       "      <td>0</td>\n",
       "      <td>vaccine:Vaccine:-2.6651530673745762;anti vaxxe...</td>\n",
       "      <td>2 -1</td>\n",
       "      <td>null;</td>\n",
       "      <td>null;</td>\n",
       "      <td>https://goo.gl/fb/uoeiPk:-:</td>\n",
       "      <td>2</td>\n",
       "      <td>-1</td>\n",
       "    </tr>\n",
       "    <tr>\n",
       "      <td>3</td>\n",
       "      <td>1178795172206919680</td>\n",
       "      <td>eb8a99bca8945eab1d006750e9b75518</td>\n",
       "      <td>22</td>\n",
       "      <td>2219</td>\n",
       "      <td>971</td>\n",
       "      <td>0</td>\n",
       "      <td>0</td>\n",
       "      <td>muse:Muse_%28band%29:-2.1677823918620867;talki...</td>\n",
       "      <td>2 -1</td>\n",
       "      <td>null;</td>\n",
       "      <td>null;</td>\n",
       "      <td>null;</td>\n",
       "      <td>2</td>\n",
       "      <td>-1</td>\n",
       "    </tr>\n",
       "    <tr>\n",
       "      <td>4</td>\n",
       "      <td>1178798309491822592</td>\n",
       "      <td>00695cf79d60e86a5d0f872f4358337a</td>\n",
       "      <td>22</td>\n",
       "      <td>9009</td>\n",
       "      <td>4943</td>\n",
       "      <td>26</td>\n",
       "      <td>89</td>\n",
       "      <td>people of northern ireland:People_of_Northern_...</td>\n",
       "      <td>2 -1</td>\n",
       "      <td>null;</td>\n",
       "      <td>VFS</td>\n",
       "      <td>null;</td>\n",
       "      <td>2</td>\n",
       "      <td>-1</td>\n",
       "    </tr>\n",
       "  </tbody>\n",
       "</table>\n",
       "</div>"
      ],
      "text/plain": [
       "              Tweet ID                          Username  Timestamp  \\\n",
       "0  1178791787386814465  35234fe4a19cc1a3336095fb3780bcc1         22   \n",
       "1  1178791985106153472  ea4592f39636d87af8fb4b17b7e2e4c0         22   \n",
       "2  1178793230223183872  bf05d1888dd974fa4a8679c25e2ead03         22   \n",
       "3  1178795172206919680  eb8a99bca8945eab1d006750e9b75518         22   \n",
       "4  1178798309491822592  00695cf79d60e86a5d0f872f4358337a         22   \n",
       "\n",
       "   #Followers  #Friends  #Retweets  #Favorites  \\\n",
       "0         619       770          0           0   \n",
       "1       36365     19344         13          17   \n",
       "2        5018      1933          0           0   \n",
       "3        2219       971          0           0   \n",
       "4        9009      4943         26          89   \n",
       "\n",
       "                                            Entities Sentiment Mentions  \\\n",
       "0                                              null;      2 -1    null;   \n",
       "1  nazi:Nazism:-2.742538749414189;blood money:Blo...      1 -4    null;   \n",
       "2  vaccine:Vaccine:-2.6651530673745762;anti vaxxe...      2 -1    null;   \n",
       "3  muse:Muse_%28band%29:-2.1677823918620867;talki...      2 -1    null;   \n",
       "4  people of northern ireland:People_of_Northern_...      2 -1    null;   \n",
       "\n",
       "  Hashtags                                               URLs  \\\n",
       "0    null;                                              null;   \n",
       "1    null;  https://twitter.com/himalayahawk/status/117766...   \n",
       "2    null;                        https://goo.gl/fb/uoeiPk:-:   \n",
       "3    null;                                              null;   \n",
       "4      VFS                                              null;   \n",
       "\n",
       "   Positive_Sentiment  Negative_Sentiment  \n",
       "0                   2                  -1  \n",
       "1                   1                  -4  \n",
       "2                   2                  -1  \n",
       "3                   2                  -1  \n",
       "4                   2                  -1  "
      ]
     },
     "execution_count": 4,
     "metadata": {},
     "output_type": "execute_result"
    }
   ],
   "source": [
    "#Splitting the sentiment into 2 columns: Positive_Sentiment and Negative_Sentiment\n",
    "data[\"Positive_Sentiment\"]=(data.Sentiment.str.split(\" \").apply(lambda x: int(x[0])))\n",
    "data[\"Negative_Sentiment\"]=(data.Sentiment.str.split(\" \").apply(lambda x: int(x[1])))\n",
    "data.head()"
   ]
  },
  {
   "cell_type": "code",
   "execution_count": 5,
   "metadata": {},
   "outputs": [
    {
     "data": {
      "text/html": [
       "<div>\n",
       "<style scoped>\n",
       "    .dataframe tbody tr th:only-of-type {\n",
       "        vertical-align: middle;\n",
       "    }\n",
       "\n",
       "    .dataframe tbody tr th {\n",
       "        vertical-align: top;\n",
       "    }\n",
       "\n",
       "    .dataframe thead th {\n",
       "        text-align: right;\n",
       "    }\n",
       "</style>\n",
       "<table border=\"1\" class=\"dataframe\">\n",
       "  <thead>\n",
       "    <tr style=\"text-align: right;\">\n",
       "      <th></th>\n",
       "      <th>Tweet ID</th>\n",
       "      <th>Username</th>\n",
       "      <th>Timestamp</th>\n",
       "      <th>#Followers</th>\n",
       "      <th>#Friends</th>\n",
       "      <th>#Retweets</th>\n",
       "      <th>#Favorites</th>\n",
       "      <th>Entities</th>\n",
       "      <th>Sentiment</th>\n",
       "      <th>Mentions</th>\n",
       "      <th>Hashtags</th>\n",
       "      <th>URLs</th>\n",
       "      <th>Positive_Sentiment</th>\n",
       "      <th>Negative_Sentiment</th>\n",
       "      <th>No_of_mentions</th>\n",
       "    </tr>\n",
       "  </thead>\n",
       "  <tbody>\n",
       "    <tr>\n",
       "      <td>0</td>\n",
       "      <td>1178791787386814465</td>\n",
       "      <td>35234fe4a19cc1a3336095fb3780bcc1</td>\n",
       "      <td>22</td>\n",
       "      <td>619</td>\n",
       "      <td>770</td>\n",
       "      <td>0</td>\n",
       "      <td>0</td>\n",
       "      <td>null;</td>\n",
       "      <td>2 -1</td>\n",
       "      <td>null;</td>\n",
       "      <td>null;</td>\n",
       "      <td>null;</td>\n",
       "      <td>2</td>\n",
       "      <td>-1</td>\n",
       "      <td>0</td>\n",
       "    </tr>\n",
       "    <tr>\n",
       "      <td>1</td>\n",
       "      <td>1178791985106153472</td>\n",
       "      <td>ea4592f39636d87af8fb4b17b7e2e4c0</td>\n",
       "      <td>22</td>\n",
       "      <td>36365</td>\n",
       "      <td>19344</td>\n",
       "      <td>13</td>\n",
       "      <td>17</td>\n",
       "      <td>nazi:Nazism:-2.742538749414189;blood money:Blo...</td>\n",
       "      <td>1 -4</td>\n",
       "      <td>null;</td>\n",
       "      <td>null;</td>\n",
       "      <td>https://twitter.com/himalayahawk/status/117766...</td>\n",
       "      <td>1</td>\n",
       "      <td>-4</td>\n",
       "      <td>0</td>\n",
       "    </tr>\n",
       "    <tr>\n",
       "      <td>2</td>\n",
       "      <td>1178793230223183872</td>\n",
       "      <td>bf05d1888dd974fa4a8679c25e2ead03</td>\n",
       "      <td>22</td>\n",
       "      <td>5018</td>\n",
       "      <td>1933</td>\n",
       "      <td>0</td>\n",
       "      <td>0</td>\n",
       "      <td>vaccine:Vaccine:-2.6651530673745762;anti vaxxe...</td>\n",
       "      <td>2 -1</td>\n",
       "      <td>null;</td>\n",
       "      <td>null;</td>\n",
       "      <td>https://goo.gl/fb/uoeiPk:-:</td>\n",
       "      <td>2</td>\n",
       "      <td>-1</td>\n",
       "      <td>0</td>\n",
       "    </tr>\n",
       "    <tr>\n",
       "      <td>3</td>\n",
       "      <td>1178795172206919680</td>\n",
       "      <td>eb8a99bca8945eab1d006750e9b75518</td>\n",
       "      <td>22</td>\n",
       "      <td>2219</td>\n",
       "      <td>971</td>\n",
       "      <td>0</td>\n",
       "      <td>0</td>\n",
       "      <td>muse:Muse_%28band%29:-2.1677823918620867;talki...</td>\n",
       "      <td>2 -1</td>\n",
       "      <td>null;</td>\n",
       "      <td>null;</td>\n",
       "      <td>null;</td>\n",
       "      <td>2</td>\n",
       "      <td>-1</td>\n",
       "      <td>0</td>\n",
       "    </tr>\n",
       "    <tr>\n",
       "      <td>4</td>\n",
       "      <td>1178798309491822592</td>\n",
       "      <td>00695cf79d60e86a5d0f872f4358337a</td>\n",
       "      <td>22</td>\n",
       "      <td>9009</td>\n",
       "      <td>4943</td>\n",
       "      <td>26</td>\n",
       "      <td>89</td>\n",
       "      <td>people of northern ireland:People_of_Northern_...</td>\n",
       "      <td>2 -1</td>\n",
       "      <td>null;</td>\n",
       "      <td>VFS</td>\n",
       "      <td>null;</td>\n",
       "      <td>2</td>\n",
       "      <td>-1</td>\n",
       "      <td>0</td>\n",
       "    </tr>\n",
       "  </tbody>\n",
       "</table>\n",
       "</div>"
      ],
      "text/plain": [
       "              Tweet ID                          Username  Timestamp  \\\n",
       "0  1178791787386814465  35234fe4a19cc1a3336095fb3780bcc1         22   \n",
       "1  1178791985106153472  ea4592f39636d87af8fb4b17b7e2e4c0         22   \n",
       "2  1178793230223183872  bf05d1888dd974fa4a8679c25e2ead03         22   \n",
       "3  1178795172206919680  eb8a99bca8945eab1d006750e9b75518         22   \n",
       "4  1178798309491822592  00695cf79d60e86a5d0f872f4358337a         22   \n",
       "\n",
       "   #Followers  #Friends  #Retweets  #Favorites  \\\n",
       "0         619       770          0           0   \n",
       "1       36365     19344         13          17   \n",
       "2        5018      1933          0           0   \n",
       "3        2219       971          0           0   \n",
       "4        9009      4943         26          89   \n",
       "\n",
       "                                            Entities Sentiment Mentions  \\\n",
       "0                                              null;      2 -1    null;   \n",
       "1  nazi:Nazism:-2.742538749414189;blood money:Blo...      1 -4    null;   \n",
       "2  vaccine:Vaccine:-2.6651530673745762;anti vaxxe...      2 -1    null;   \n",
       "3  muse:Muse_%28band%29:-2.1677823918620867;talki...      2 -1    null;   \n",
       "4  people of northern ireland:People_of_Northern_...      2 -1    null;   \n",
       "\n",
       "  Hashtags                                               URLs  \\\n",
       "0    null;                                              null;   \n",
       "1    null;  https://twitter.com/himalayahawk/status/117766...   \n",
       "2    null;                        https://goo.gl/fb/uoeiPk:-:   \n",
       "3    null;                                              null;   \n",
       "4      VFS                                              null;   \n",
       "\n",
       "   Positive_Sentiment  Negative_Sentiment  No_of_mentions  \n",
       "0                   2                  -1               0  \n",
       "1                   1                  -4               0  \n",
       "2                   2                  -1               0  \n",
       "3                   2                  -1               0  \n",
       "4                   2                  -1               0  "
      ]
     },
     "execution_count": 5,
     "metadata": {},
     "output_type": "execute_result"
    }
   ],
   "source": [
    "#Adding a feature consisting of the number of mentions\n",
    "data[\"No_of_mentions\"]=(data[\"Mentions\"].apply(lambda x: str(x))).apply(lambda x: 0 if 'null;' in x else len(x.split()))\n",
    "data.head()"
   ]
  },
  {
   "cell_type": "code",
   "execution_count": 6,
   "metadata": {
    "scrolled": true
   },
   "outputs": [
    {
     "data": {
      "text/html": [
       "<div>\n",
       "<style scoped>\n",
       "    .dataframe tbody tr th:only-of-type {\n",
       "        vertical-align: middle;\n",
       "    }\n",
       "\n",
       "    .dataframe tbody tr th {\n",
       "        vertical-align: top;\n",
       "    }\n",
       "\n",
       "    .dataframe thead th {\n",
       "        text-align: right;\n",
       "    }\n",
       "</style>\n",
       "<table border=\"1\" class=\"dataframe\">\n",
       "  <thead>\n",
       "    <tr style=\"text-align: right;\">\n",
       "      <th></th>\n",
       "      <th>Tweet ID</th>\n",
       "      <th>Username</th>\n",
       "      <th>Timestamp</th>\n",
       "      <th>#Followers</th>\n",
       "      <th>#Friends</th>\n",
       "      <th>#Retweets</th>\n",
       "      <th>#Favorites</th>\n",
       "      <th>Entities</th>\n",
       "      <th>Sentiment</th>\n",
       "      <th>Mentions</th>\n",
       "      <th>Hashtags</th>\n",
       "      <th>URLs</th>\n",
       "      <th>Positive_Sentiment</th>\n",
       "      <th>Negative_Sentiment</th>\n",
       "      <th>No_of_mentions</th>\n",
       "      <th>No_of_hashtags</th>\n",
       "    </tr>\n",
       "  </thead>\n",
       "  <tbody>\n",
       "    <tr>\n",
       "      <td>0</td>\n",
       "      <td>1178791787386814465</td>\n",
       "      <td>35234fe4a19cc1a3336095fb3780bcc1</td>\n",
       "      <td>22</td>\n",
       "      <td>619</td>\n",
       "      <td>770</td>\n",
       "      <td>0</td>\n",
       "      <td>0</td>\n",
       "      <td>null;</td>\n",
       "      <td>2 -1</td>\n",
       "      <td>null;</td>\n",
       "      <td>null;</td>\n",
       "      <td>null;</td>\n",
       "      <td>2</td>\n",
       "      <td>-1</td>\n",
       "      <td>0</td>\n",
       "      <td>0</td>\n",
       "    </tr>\n",
       "    <tr>\n",
       "      <td>1</td>\n",
       "      <td>1178791985106153472</td>\n",
       "      <td>ea4592f39636d87af8fb4b17b7e2e4c0</td>\n",
       "      <td>22</td>\n",
       "      <td>36365</td>\n",
       "      <td>19344</td>\n",
       "      <td>13</td>\n",
       "      <td>17</td>\n",
       "      <td>nazi:Nazism:-2.742538749414189;blood money:Blo...</td>\n",
       "      <td>1 -4</td>\n",
       "      <td>null;</td>\n",
       "      <td>null;</td>\n",
       "      <td>https://twitter.com/himalayahawk/status/117766...</td>\n",
       "      <td>1</td>\n",
       "      <td>-4</td>\n",
       "      <td>0</td>\n",
       "      <td>0</td>\n",
       "    </tr>\n",
       "    <tr>\n",
       "      <td>2</td>\n",
       "      <td>1178793230223183872</td>\n",
       "      <td>bf05d1888dd974fa4a8679c25e2ead03</td>\n",
       "      <td>22</td>\n",
       "      <td>5018</td>\n",
       "      <td>1933</td>\n",
       "      <td>0</td>\n",
       "      <td>0</td>\n",
       "      <td>vaccine:Vaccine:-2.6651530673745762;anti vaxxe...</td>\n",
       "      <td>2 -1</td>\n",
       "      <td>null;</td>\n",
       "      <td>null;</td>\n",
       "      <td>https://goo.gl/fb/uoeiPk:-:</td>\n",
       "      <td>2</td>\n",
       "      <td>-1</td>\n",
       "      <td>0</td>\n",
       "      <td>0</td>\n",
       "    </tr>\n",
       "    <tr>\n",
       "      <td>3</td>\n",
       "      <td>1178795172206919680</td>\n",
       "      <td>eb8a99bca8945eab1d006750e9b75518</td>\n",
       "      <td>22</td>\n",
       "      <td>2219</td>\n",
       "      <td>971</td>\n",
       "      <td>0</td>\n",
       "      <td>0</td>\n",
       "      <td>muse:Muse_%28band%29:-2.1677823918620867;talki...</td>\n",
       "      <td>2 -1</td>\n",
       "      <td>null;</td>\n",
       "      <td>null;</td>\n",
       "      <td>null;</td>\n",
       "      <td>2</td>\n",
       "      <td>-1</td>\n",
       "      <td>0</td>\n",
       "      <td>0</td>\n",
       "    </tr>\n",
       "    <tr>\n",
       "      <td>4</td>\n",
       "      <td>1178798309491822592</td>\n",
       "      <td>00695cf79d60e86a5d0f872f4358337a</td>\n",
       "      <td>22</td>\n",
       "      <td>9009</td>\n",
       "      <td>4943</td>\n",
       "      <td>26</td>\n",
       "      <td>89</td>\n",
       "      <td>people of northern ireland:People_of_Northern_...</td>\n",
       "      <td>2 -1</td>\n",
       "      <td>null;</td>\n",
       "      <td>VFS</td>\n",
       "      <td>null;</td>\n",
       "      <td>2</td>\n",
       "      <td>-1</td>\n",
       "      <td>0</td>\n",
       "      <td>1</td>\n",
       "    </tr>\n",
       "  </tbody>\n",
       "</table>\n",
       "</div>"
      ],
      "text/plain": [
       "              Tweet ID                          Username  Timestamp  \\\n",
       "0  1178791787386814465  35234fe4a19cc1a3336095fb3780bcc1         22   \n",
       "1  1178791985106153472  ea4592f39636d87af8fb4b17b7e2e4c0         22   \n",
       "2  1178793230223183872  bf05d1888dd974fa4a8679c25e2ead03         22   \n",
       "3  1178795172206919680  eb8a99bca8945eab1d006750e9b75518         22   \n",
       "4  1178798309491822592  00695cf79d60e86a5d0f872f4358337a         22   \n",
       "\n",
       "   #Followers  #Friends  #Retweets  #Favorites  \\\n",
       "0         619       770          0           0   \n",
       "1       36365     19344         13          17   \n",
       "2        5018      1933          0           0   \n",
       "3        2219       971          0           0   \n",
       "4        9009      4943         26          89   \n",
       "\n",
       "                                            Entities Sentiment Mentions  \\\n",
       "0                                              null;      2 -1    null;   \n",
       "1  nazi:Nazism:-2.742538749414189;blood money:Blo...      1 -4    null;   \n",
       "2  vaccine:Vaccine:-2.6651530673745762;anti vaxxe...      2 -1    null;   \n",
       "3  muse:Muse_%28band%29:-2.1677823918620867;talki...      2 -1    null;   \n",
       "4  people of northern ireland:People_of_Northern_...      2 -1    null;   \n",
       "\n",
       "  Hashtags                                               URLs  \\\n",
       "0    null;                                              null;   \n",
       "1    null;  https://twitter.com/himalayahawk/status/117766...   \n",
       "2    null;                        https://goo.gl/fb/uoeiPk:-:   \n",
       "3    null;                                              null;   \n",
       "4      VFS                                              null;   \n",
       "\n",
       "   Positive_Sentiment  Negative_Sentiment  No_of_mentions  No_of_hashtags  \n",
       "0                   2                  -1               0               0  \n",
       "1                   1                  -4               0               0  \n",
       "2                   2                  -1               0               0  \n",
       "3                   2                  -1               0               0  \n",
       "4                   2                  -1               0               1  "
      ]
     },
     "execution_count": 6,
     "metadata": {},
     "output_type": "execute_result"
    }
   ],
   "source": [
    "#Adding a feature consisting of the number of Hashtags\n",
    "data[\"No_of_hashtags\"]=(data[\"Hashtags\"].apply(lambda x: str(x))).apply(lambda x: 0 if 'null;' in x else len(x.split()))\n",
    "data.head()"
   ]
  },
  {
   "cell_type": "code",
   "execution_count": 7,
   "metadata": {},
   "outputs": [],
   "source": [
    "#Dropping Tweet ID, Username, Sentiment\n",
    "del data[\"Tweet ID\"]\n",
    "del data[\"Username\"]\n",
    "del data[\"Sentiment\"]\n",
    "del data[\"URLs\"]\n",
    "del data[\"Mentions\"]\n",
    "del data[\"Hashtags\"]\n",
    "del data[\"Entities\"]"
   ]
  },
  {
   "cell_type": "code",
   "execution_count": 8,
   "metadata": {},
   "outputs": [
    {
     "name": "stdout",
     "output_type": "stream",
     "text": [
      "117 duplicates were found.\n",
      "Duplicates removed. Updated shape: (99883, 9)\n"
     ]
    }
   ],
   "source": [
    "#Checking for duplicates\n",
    "#Reference: https://machinelearningmastery.com/basic-data-cleaning-for-machine-learning/\n",
    "dups = data.duplicated()\n",
    "# list all duplicate rows\n",
    "print(data[dups].shape[0],\"duplicates were found.\")\n",
    "\n",
    "#Removing duplicates\n",
    "if(data[dups].shape[0]!=0):\n",
    "    data.drop_duplicates(inplace=True)\n",
    "    print(\"Duplicates removed. Updated shape:\",data.shape)"
   ]
  },
  {
   "cell_type": "markdown",
   "metadata": {},
   "source": [
    "## Exploratory Data Analysis"
   ]
  },
  {
   "cell_type": "markdown",
   "metadata": {},
   "source": [
    "#### Distribution of log(Followers), log(Friends), log(Favorites)"
   ]
  },
  {
   "cell_type": "code",
   "execution_count": 9,
   "metadata": {},
   "outputs": [
    {
     "name": "stderr",
     "output_type": "stream",
     "text": [
      "C:\\Users\\easha\\Anaconda3\\lib\\site-packages\\pandas\\core\\series.py:853: RuntimeWarning: divide by zero encountered in log10\n",
      "  result = getattr(ufunc, method)(*inputs, **kwargs)\n"
     ]
    },
    {
     "data": {
      "image/png": "[encoded data removed]",
      "text/plain": [
       "<Figure size 720x360 with 1 Axes>"
      ]
     },
     "metadata": {
      "needs_background": "light"
     },
     "output_type": "display_data"
    }
   ],
   "source": [
    "np.log10(data['#Followers']).plot.hist(bins=50, figsize=(10,5), edgecolor='white',range=[0,10])\n",
    "plt.xlabel('log(Followers)', fontsize=17)\n",
    "plt.ylabel('Frequency', fontsize=17)\n",
    "plt.tick_params(labelsize=15)\n",
    "plt.title('Log(Followers) Distribution', fontsize=17)\n",
    "plt.show()"
   ]
  },
  {
   "cell_type": "code",
   "execution_count": 10,
   "metadata": {},
   "outputs": [
    {
     "data": {
      "image/png": "[encoded data removed]",
      "text/plain": [
       "<Figure size 720x360 with 1 Axes>"
      ]
     },
     "metadata": {
      "needs_background": "light"
     },
     "output_type": "display_data"
    }
   ],
   "source": [
    "np.log10(data['#Friends']).plot.hist(bins=50, figsize=(10,5), edgecolor='white',range=[0,7])\n",
    "plt.xlabel('log(Friends)', fontsize=17)\n",
    "plt.ylabel('Frequency', fontsize=17)\n",
    "plt.tick_params(labelsize=15)\n",
    "plt.title('Log(Friends) Distribution', fontsize=17)\n",
    "plt.show()"
   ]
  },
  {
   "cell_type": "code",
   "execution_count": 11,
   "metadata": {},
   "outputs": [
    {
     "data": {
      "image/png": "[encoded data removed]",
      "text/plain": [
       "<Figure size 720x360 with 1 Axes>"
      ]
     },
     "metadata": {
      "needs_background": "light"
     },
     "output_type": "display_data"
    }
   ],
   "source": [
    "np.log10(data['#Favorites']).plot.hist(bins=50, figsize=(10,5), edgecolor='white',range=[0,7])\n",
    "plt.xlabel('log(Favorites)', fontsize=17)\n",
    "plt.ylabel('Frequency', fontsize=17)\n",
    "plt.tick_params(labelsize=15)\n",
    "plt.title('Log(Favorites) Distribution', fontsize=17)\n",
    "plt.show()"
   ]
  },
  {
   "cell_type": "markdown",
   "metadata": {},
   "source": [
    "#### Plotting correlation matrix"
   ]
  },
  {
   "cell_type": "code",
   "execution_count": 12,
   "metadata": {},
   "outputs": [
    {
     "data": {
      "text/html": [
       "<div>\n",
       "<style scoped>\n",
       "    .dataframe tbody tr th:only-of-type {\n",
       "        vertical-align: middle;\n",
       "    }\n",
       "\n",
       "    .dataframe tbody tr th {\n",
       "        vertical-align: top;\n",
       "    }\n",
       "\n",
       "    .dataframe thead th {\n",
       "        text-align: right;\n",
       "    }\n",
       "</style>\n",
       "<table border=\"1\" class=\"dataframe\">\n",
       "  <thead>\n",
       "    <tr style=\"text-align: right;\">\n",
       "      <th></th>\n",
       "      <th>#Followers</th>\n",
       "      <th>#Friends</th>\n",
       "      <th>#Favorites</th>\n",
       "      <th>Positive_Sentiment</th>\n",
       "      <th>Negative_Sentiment</th>\n",
       "      <th>#Retweets</th>\n",
       "    </tr>\n",
       "  </thead>\n",
       "  <tbody>\n",
       "    <tr>\n",
       "      <td>#Followers</td>\n",
       "      <td>1.000000</td>\n",
       "      <td>0.011319</td>\n",
       "      <td>0.172150</td>\n",
       "      <td>-0.027137</td>\n",
       "      <td>0.008767</td>\n",
       "      <td>0.134495</td>\n",
       "    </tr>\n",
       "    <tr>\n",
       "      <td>#Friends</td>\n",
       "      <td>0.011319</td>\n",
       "      <td>1.000000</td>\n",
       "      <td>0.017863</td>\n",
       "      <td>-0.000634</td>\n",
       "      <td>-0.007809</td>\n",
       "      <td>0.026489</td>\n",
       "    </tr>\n",
       "    <tr>\n",
       "      <td>#Favorites</td>\n",
       "      <td>0.172150</td>\n",
       "      <td>0.017863</td>\n",
       "      <td>1.000000</td>\n",
       "      <td>0.002486</td>\n",
       "      <td>-0.003841</td>\n",
       "      <td>0.890327</td>\n",
       "    </tr>\n",
       "    <tr>\n",
       "      <td>Positive_Sentiment</td>\n",
       "      <td>-0.027137</td>\n",
       "      <td>-0.000634</td>\n",
       "      <td>0.002486</td>\n",
       "      <td>1.000000</td>\n",
       "      <td>-0.039631</td>\n",
       "      <td>0.000386</td>\n",
       "    </tr>\n",
       "    <tr>\n",
       "      <td>Negative_Sentiment</td>\n",
       "      <td>0.008767</td>\n",
       "      <td>-0.007809</td>\n",
       "      <td>-0.003841</td>\n",
       "      <td>-0.039631</td>\n",
       "      <td>1.000000</td>\n",
       "      <td>-0.010521</td>\n",
       "    </tr>\n",
       "    <tr>\n",
       "      <td>#Retweets</td>\n",
       "      <td>0.134495</td>\n",
       "      <td>0.026489</td>\n",
       "      <td>0.890327</td>\n",
       "      <td>0.000386</td>\n",
       "      <td>-0.010521</td>\n",
       "      <td>1.000000</td>\n",
       "    </tr>\n",
       "  </tbody>\n",
       "</table>\n",
       "</div>"
      ],
      "text/plain": [
       "                    #Followers  #Friends  #Favorites  Positive_Sentiment  \\\n",
       "#Followers            1.000000  0.011319    0.172150           -0.027137   \n",
       "#Friends              0.011319  1.000000    0.017863           -0.000634   \n",
       "#Favorites            0.172150  0.017863    1.000000            0.002486   \n",
       "Positive_Sentiment   -0.027137 -0.000634    0.002486            1.000000   \n",
       "Negative_Sentiment    0.008767 -0.007809   -0.003841           -0.039631   \n",
       "#Retweets             0.134495  0.026489    0.890327            0.000386   \n",
       "\n",
       "                    Negative_Sentiment  #Retweets  \n",
       "#Followers                    0.008767   0.134495  \n",
       "#Friends                     -0.007809   0.026489  \n",
       "#Favorites                   -0.003841   0.890327  \n",
       "Positive_Sentiment           -0.039631   0.000386  \n",
       "Negative_Sentiment            1.000000  -0.010521  \n",
       "#Retweets                    -0.010521   1.000000  "
      ]
     },
     "execution_count": 12,
     "metadata": {},
     "output_type": "execute_result"
    }
   ],
   "source": [
    "corr_columns=[\"#Followers\",\"#Friends\",\"#Favorites\",\"Positive_Sentiment\",\"Negative_Sentiment\",\"#Retweets\"]\n",
    "data[corr_columns].corr()"
   ]
  },
  {
   "cell_type": "markdown",
   "metadata": {},
   "source": [
    "**From the correlation matrix, we can see that there is a high correlation between #Favorites and #Retweets. Whereas, all other predictors have little to no correlation with the #Retweets.**\n",
    "\n",
    "2c. These correlation plots signify how related these variables are with each other and with the output variable i.e. #Retweets. \n",
    "\n",
    "2d. + signs in the matrix signify a positive correlation i.e. with increase in 1 value the other will also increase. - signs, signify negative correlation i.e. with increase in 1 value the other will decrease. \n",
    "\n",
    "2e. If a feature shows 0 correlation to #Retweets, that means that it doesn't contribute to the prediction, since it doesn't have any insights into #Retweets to offer. This hypothesis can be proven by ignoring all variables that have almost 0 correlation with the output variable #Retweets (everything except #Favorites) and running this file to the very end. We note that we get similar performances with using just #Favorites (See table attached with the submitted pdf). This proves that other variables that had a near 0 correlation with the #Retweets don't really add any value to the predictions. "
   ]
  },
  {
   "cell_type": "code",
   "execution_count": 13,
   "metadata": {},
   "outputs": [
    {
     "data": {
      "image/png": "[encoded data removed]",
      "text/plain": [
       "<Figure size 432x288 with 2 Axes>"
      ]
     },
     "metadata": {
      "needs_background": "light"
     },
     "output_type": "display_data"
    }
   ],
   "source": [
    "###### plt.figure(figsize=(9,6))\n",
    "sns.heatmap(data[corr_columns].corr(), annot=True, cmap=\"viridis\")\n",
    "plt.xticks([0,1,2,3,4,5])\n",
    "plt.yticks([0,1,2,3,4,5])\n",
    "plt.tight_layout()\n",
    "plt.title(\"Corelation Heatmap\", fontsize=17)\n",
    "plt.show()"
   ]
  },
  {
   "cell_type": "markdown",
   "metadata": {},
   "source": [
    "## Missing Data Imputation"
   ]
  },
  {
   "cell_type": "code",
   "execution_count": 14,
   "metadata": {
    "scrolled": false
   },
   "outputs": [
    {
     "name": "stdout",
     "output_type": "stream",
     "text": [
      "<class 'pandas.core.frame.DataFrame'>\n",
      "Int64Index: 99883 entries, 0 to 99999\n",
      "Data columns (total 9 columns):\n",
      "Timestamp             99883 non-null int64\n",
      "#Followers            99883 non-null int64\n",
      "#Friends              99883 non-null int64\n",
      "#Retweets             99883 non-null int64\n",
      "#Favorites            99883 non-null int64\n",
      "Positive_Sentiment    99883 non-null int64\n",
      "Negative_Sentiment    99883 non-null int64\n",
      "No_of_mentions        99883 non-null int64\n",
      "No_of_hashtags        99883 non-null int64\n",
      "dtypes: int64(9)\n",
      "memory usage: 7.6 MB\n"
     ]
    }
   ],
   "source": [
    "#Checking for missing data\n",
    "data.info()"
   ]
  },
  {
   "cell_type": "markdown",
   "metadata": {},
   "source": [
    "From the infromation above, we note that there are only 2 columns that have null/missing data. These columns are: Mentions and Hashtags. \n",
    "\n",
    "Some strategies that could be used if missing data was found:\n",
    "1. Filling in the mean in case of numerical columns (Drawback: Reduces the variance of a dataset)\n",
    "2. Filling in most frequently occuring value (Useful when we have categorical columns)\n",
    "3. K Nearest Neighbors (Drawback: It is computationally too expensive in case of high dimensional data)  \n",
    "Reference: https://machinelearningmastery.com/knn-imputation-for-missing-values-in-machine-learning/#:~:text=Although%20any%20one%20among%20a,as%20%E2%80%9Cnearest%20neighbor%20imputation.%E2%80%9D\n",
    "4. MICE (https://towardsdatascience.com/6-different-ways-to-compensate-for-missing-values-data-imputation-with-examples-6022d9ca0779)\n",
    "\n",
    "**In our case, we just have a total of 200 (approximately) rows that contain a column with null values. Since this number is really small, we can simply remove those rows with na values.**"
   ]
  },
  {
   "cell_type": "code",
   "execution_count": 15,
   "metadata": {},
   "outputs": [],
   "source": [
    "data=data.dropna()"
   ]
  },
  {
   "cell_type": "code",
   "execution_count": 16,
   "metadata": {},
   "outputs": [
    {
     "name": "stdout",
     "output_type": "stream",
     "text": [
      "<class 'pandas.core.frame.DataFrame'>\n",
      "Int64Index: 99883 entries, 0 to 99999\n",
      "Data columns (total 9 columns):\n",
      "Timestamp             99883 non-null int64\n",
      "#Followers            99883 non-null int64\n",
      "#Friends              99883 non-null int64\n",
      "#Retweets             99883 non-null int64\n",
      "#Favorites            99883 non-null int64\n",
      "Positive_Sentiment    99883 non-null int64\n",
      "Negative_Sentiment    99883 non-null int64\n",
      "No_of_mentions        99883 non-null int64\n",
      "No_of_hashtags        99883 non-null int64\n",
      "dtypes: int64(9)\n",
      "memory usage: 7.6 MB\n"
     ]
    }
   ],
   "source": [
    "data.info()"
   ]
  },
  {
   "cell_type": "markdown",
   "metadata": {},
   "source": [
    "## Normalization of numerical columns"
   ]
  },
  {
   "cell_type": "code",
   "execution_count": 17,
   "metadata": {
    "scrolled": true
   },
   "outputs": [
    {
     "data": {
      "text/html": [
       "<div>\n",
       "<style scoped>\n",
       "    .dataframe tbody tr th:only-of-type {\n",
       "        vertical-align: middle;\n",
       "    }\n",
       "\n",
       "    .dataframe tbody tr th {\n",
       "        vertical-align: top;\n",
       "    }\n",
       "\n",
       "    .dataframe thead th {\n",
       "        text-align: right;\n",
       "    }\n",
       "</style>\n",
       "<table border=\"1\" class=\"dataframe\">\n",
       "  <thead>\n",
       "    <tr style=\"text-align: right;\">\n",
       "      <th></th>\n",
       "      <th>Timestamp</th>\n",
       "      <th>#Followers</th>\n",
       "      <th>#Friends</th>\n",
       "      <th>#Favorites</th>\n",
       "      <th>Positive_Sentiment</th>\n",
       "      <th>Negative_Sentiment</th>\n",
       "      <th>No_of_mentions</th>\n",
       "      <th>No_of_hashtags</th>\n",
       "    </tr>\n",
       "  </thead>\n",
       "  <tbody>\n",
       "    <tr>\n",
       "      <td>0</td>\n",
       "      <td>0.956522</td>\n",
       "      <td>0.000008</td>\n",
       "      <td>0.000417</td>\n",
       "      <td>0.000000</td>\n",
       "      <td>0.25</td>\n",
       "      <td>1.00</td>\n",
       "      <td>0.0</td>\n",
       "      <td>0.000000</td>\n",
       "    </tr>\n",
       "    <tr>\n",
       "      <td>1</td>\n",
       "      <td>0.956522</td>\n",
       "      <td>0.000461</td>\n",
       "      <td>0.010469</td>\n",
       "      <td>0.000092</td>\n",
       "      <td>0.00</td>\n",
       "      <td>0.25</td>\n",
       "      <td>0.0</td>\n",
       "      <td>0.000000</td>\n",
       "    </tr>\n",
       "    <tr>\n",
       "      <td>2</td>\n",
       "      <td>0.956522</td>\n",
       "      <td>0.000064</td>\n",
       "      <td>0.001046</td>\n",
       "      <td>0.000000</td>\n",
       "      <td>0.25</td>\n",
       "      <td>1.00</td>\n",
       "      <td>0.0</td>\n",
       "      <td>0.000000</td>\n",
       "    </tr>\n",
       "    <tr>\n",
       "      <td>3</td>\n",
       "      <td>0.956522</td>\n",
       "      <td>0.000028</td>\n",
       "      <td>0.000526</td>\n",
       "      <td>0.000000</td>\n",
       "      <td>0.25</td>\n",
       "      <td>1.00</td>\n",
       "      <td>0.0</td>\n",
       "      <td>0.000000</td>\n",
       "    </tr>\n",
       "    <tr>\n",
       "      <td>4</td>\n",
       "      <td>0.956522</td>\n",
       "      <td>0.000114</td>\n",
       "      <td>0.002675</td>\n",
       "      <td>0.000479</td>\n",
       "      <td>0.25</td>\n",
       "      <td>1.00</td>\n",
       "      <td>0.0</td>\n",
       "      <td>0.033333</td>\n",
       "    </tr>\n",
       "  </tbody>\n",
       "</table>\n",
       "</div>"
      ],
      "text/plain": [
       "   Timestamp  #Followers  #Friends  #Favorites  Positive_Sentiment  \\\n",
       "0   0.956522    0.000008  0.000417    0.000000                0.25   \n",
       "1   0.956522    0.000461  0.010469    0.000092                0.00   \n",
       "2   0.956522    0.000064  0.001046    0.000000                0.25   \n",
       "3   0.956522    0.000028  0.000526    0.000000                0.25   \n",
       "4   0.956522    0.000114  0.002675    0.000479                0.25   \n",
       "\n",
       "   Negative_Sentiment  No_of_mentions  No_of_hashtags  \n",
       "0                1.00             0.0        0.000000  \n",
       "1                0.25             0.0        0.000000  \n",
       "2                1.00             0.0        0.000000  \n",
       "3                1.00             0.0        0.000000  \n",
       "4                1.00             0.0        0.033333  "
      ]
     },
     "execution_count": 17,
     "metadata": {},
     "output_type": "execute_result"
    }
   ],
   "source": [
    "X= data.drop(\"#Retweets\", axis=1)\n",
    "#X_Fav=pd.DataFrame(data[\"#Favorites\"])\n",
    "y= data[\"#Retweets\"]\n",
    "\n",
    "# define min max scaler\n",
    "scaler = MinMaxScaler()\n",
    "# transform data\n",
    "scaled = scaler.fit_transform(X)\n",
    "scaled=pd.DataFrame(scaled,columns=X.columns)\n",
    "scaled.head()"
   ]
  },
  {
   "cell_type": "markdown",
   "metadata": {},
   "source": [
    "## Train Test Split"
   ]
  },
  {
   "cell_type": "code",
   "execution_count": 18,
   "metadata": {},
   "outputs": [
    {
     "name": "stdout",
     "output_type": "stream",
     "text": [
      "(79906, 8) (19977, 8) (79906,) (19977,)\n"
     ]
    }
   ],
   "source": [
    "# split a dataset into train and test sets\n",
    "from sklearn.model_selection import train_test_split\n",
    "# split into train test sets\n",
    "def train_test_split_method(X,y, testSize):\n",
    "    X_train, X_test, y_train, y_test = train_test_split(scaled, y, test_size=testSize)\n",
    "    print(X_train.shape, X_test.shape, y_train.shape, y_test.shape)\n",
    "    return X_train,X_test,y_train,y_test\n",
    "X_train, X_test, y_train, y_test = train_test_split_method(scaled, y,0.20)"
   ]
  },
  {
   "cell_type": "markdown",
   "metadata": {},
   "source": [
    "## Model Training and Testing"
   ]
  },
  {
   "cell_type": "markdown",
   "metadata": {},
   "source": [
    "### Base Model: The one that predicts the average"
   ]
  },
  {
   "cell_type": "code",
   "execution_count": 19,
   "metadata": {},
   "outputs": [],
   "source": [
    "#Base model is the one that always returns mean\n",
    "def baseModelPrediction(y_train):\n",
    "    return y_train.mean()\n",
    "\n",
    "mean=y_train.mean()\n",
    "\n",
    "\n",
    "#calculate the mean, which will be the base model\n",
    "base_model_results=pd.DataFrame({'Prediction':[mean for val in y_test],'Actual':y_test})"
   ]
  },
  {
   "cell_type": "code",
   "execution_count": 20,
   "metadata": {},
   "outputs": [],
   "source": [
    "def model_building(X_train,y_train,model):\n",
    "    return model.fit(X_train,y_train)"
   ]
  },
  {
   "cell_type": "markdown",
   "metadata": {},
   "source": [
    "### Lasso Regression"
   ]
  },
  {
   "cell_type": "code",
   "execution_count": 21,
   "metadata": {},
   "outputs": [],
   "source": [
    "#Building a lasso regression model:\n",
    "clf=model_building(X_train,y_train,Lasso(alpha=0.1))\n",
    "#Predicting using the lasso regression model:\n",
    "lasso_results=pd.DataFrame({'Prediction':clf.predict(X_test),'Actual':y_test})"
   ]
  },
  {
   "cell_type": "markdown",
   "metadata": {},
   "source": [
    "### K-nearest neighbors"
   ]
  },
  {
   "cell_type": "code",
   "execution_count": 22,
   "metadata": {},
   "outputs": [],
   "source": [
    "#Building a k nearest neighbors regression model:\n",
    "knn_reg=model_building(X_train,y_train,KNeighborsRegressor(n_neighbors=2))\n",
    "#Predicting using the lasso regression model:\n",
    "knn_results=pd.DataFrame({'Prediction':knn_reg.predict(X_test),'Actual':y_test})"
   ]
  },
  {
   "cell_type": "markdown",
   "metadata": {},
   "source": [
    "### Random Forests"
   ]
  },
  {
   "cell_type": "code",
   "execution_count": 23,
   "metadata": {},
   "outputs": [
    {
     "name": "stderr",
     "output_type": "stream",
     "text": [
      "C:\\Users\\easha\\Anaconda3\\lib\\site-packages\\sklearn\\ensemble\\forest.py:245: FutureWarning: The default value of n_estimators will change from 10 in version 0.20 to 100 in 0.22.\n",
      "  \"10 in version 0.20 to 100 in 0.22.\", FutureWarning)\n"
     ]
    }
   ],
   "source": [
    "#Building a random forests regression model:\n",
    "regr = model_building(X_train,y_train,RandomForestRegressor(max_depth=10))\n",
    "#Predicting using the random forests regression model:\n",
    "random_forest_results=pd.DataFrame({'Prediction':regr.predict(X_test),'Actual':y_test})"
   ]
  },
  {
   "cell_type": "markdown",
   "metadata": {},
   "source": [
    "## Interpretation of Results\n",
    "\n",
    "Some applicable evaluation metrics include: RMSE and R2. R2 indicates how much better that particular model does over the base model. RMSE indicates how far we are on average from the true values. "
   ]
  },
  {
   "cell_type": "code",
   "execution_count": 24,
   "metadata": {},
   "outputs": [],
   "source": [
    "def compute_RMSE(predicted, true):\n",
    "    return (compute_variation(predicted,true).sum()/true.shape[0])**0.5"
   ]
  },
  {
   "cell_type": "code",
   "execution_count": 25,
   "metadata": {},
   "outputs": [],
   "source": [
    "def compute_variation(predicted,true):\n",
    "    return (predicted-true)**2"
   ]
  },
  {
   "cell_type": "code",
   "execution_count": 26,
   "metadata": {},
   "outputs": [],
   "source": [
    "def computemetrics(metrics,model,X_test,y_test,mean_base_model):\n",
    "    for val in model:\n",
    "        r2=1-(compute_variation(val.predict(X_test),y_test).sum()/compute_variation([mean for val in y_test], y_test).sum())\n",
    "        rmse=compute_RMSE(val.predict(X_test),y_test)\n",
    "        model_name = type(val).__name__\n",
    "        metrics=metrics.append({\"Model\":model_name,\"R2\":r2,\"RMSE\":rmse},ignore_index=True)\n",
    "    return metrics"
   ]
  },
  {
   "cell_type": "code",
   "execution_count": 27,
   "metadata": {},
   "outputs": [],
   "source": [
    "metrics=pd.DataFrame(columns=(\"Model\",\"R2\",\"RMSE\"))\n",
    "#call computemetrics function \n",
    "metrics_updated=computemetrics(metrics, [clf,knn_reg,regr],X_test,y_test,mean)"
   ]
  },
  {
   "cell_type": "code",
   "execution_count": 28,
   "metadata": {
    "scrolled": true
   },
   "outputs": [
    {
     "data": {
      "text/html": [
       "<div>\n",
       "<style scoped>\n",
       "    .dataframe tbody tr th:only-of-type {\n",
       "        vertical-align: middle;\n",
       "    }\n",
       "\n",
       "    .dataframe tbody tr th {\n",
       "        vertical-align: top;\n",
       "    }\n",
       "\n",
       "    .dataframe thead th {\n",
       "        text-align: right;\n",
       "    }\n",
       "</style>\n",
       "<table border=\"1\" class=\"dataframe\">\n",
       "  <thead>\n",
       "    <tr style=\"text-align: right;\">\n",
       "      <th></th>\n",
       "      <th>Model</th>\n",
       "      <th>R2</th>\n",
       "      <th>RMSE</th>\n",
       "    </tr>\n",
       "  </thead>\n",
       "  <tbody>\n",
       "    <tr>\n",
       "      <td>0</td>\n",
       "      <td>Lasso</td>\n",
       "      <td>0.747568</td>\n",
       "      <td>137.834198</td>\n",
       "    </tr>\n",
       "    <tr>\n",
       "      <td>1</td>\n",
       "      <td>KNeighborsRegressor</td>\n",
       "      <td>0.406928</td>\n",
       "      <td>211.270445</td>\n",
       "    </tr>\n",
       "    <tr>\n",
       "      <td>2</td>\n",
       "      <td>RandomForestRegressor</td>\n",
       "      <td>0.647547</td>\n",
       "      <td>162.867819</td>\n",
       "    </tr>\n",
       "  </tbody>\n",
       "</table>\n",
       "</div>"
      ],
      "text/plain": [
       "                   Model        R2        RMSE\n",
       "0                  Lasso  0.747568  137.834198\n",
       "1    KNeighborsRegressor  0.406928  211.270445\n",
       "2  RandomForestRegressor  0.647547  162.867819"
      ]
     },
     "execution_count": 28,
     "metadata": {},
     "output_type": "execute_result"
    }
   ],
   "source": [
    "metrics_updated"
   ]
  },
  {
   "cell_type": "markdown",
   "metadata": {},
   "source": [
    "#### Calculating CV Scores for each model"
   ]
  },
  {
   "cell_type": "code",
   "execution_count": 29,
   "metadata": {},
   "outputs": [],
   "source": [
    "CV_df=pd.DataFrame(columns=['Model','CV Score (R2)'])\n",
    "for val in [clf,knn_reg,regr]:\n",
    "    score=cross_val_score(val,scaled,y,cv=10,scoring='r2')\n",
    "    score=score.mean()\n",
    "    CV_df=CV_df.append({\"Model\":type(val).__name__,'CV Score (R2)':score},ignore_index=True)"
   ]
  },
  {
   "cell_type": "code",
   "execution_count": 30,
   "metadata": {},
   "outputs": [
    {
     "data": {
      "text/html": [
       "<div>\n",
       "<style scoped>\n",
       "    .dataframe tbody tr th:only-of-type {\n",
       "        vertical-align: middle;\n",
       "    }\n",
       "\n",
       "    .dataframe tbody tr th {\n",
       "        vertical-align: top;\n",
       "    }\n",
       "\n",
       "    .dataframe thead th {\n",
       "        text-align: right;\n",
       "    }\n",
       "</style>\n",
       "<table border=\"1\" class=\"dataframe\">\n",
       "  <thead>\n",
       "    <tr style=\"text-align: right;\">\n",
       "      <th></th>\n",
       "      <th>Model</th>\n",
       "      <th>CV Score (R2)</th>\n",
       "    </tr>\n",
       "  </thead>\n",
       "  <tbody>\n",
       "    <tr>\n",
       "      <td>0</td>\n",
       "      <td>Lasso</td>\n",
       "      <td>0.669488</td>\n",
       "    </tr>\n",
       "    <tr>\n",
       "      <td>1</td>\n",
       "      <td>KNeighborsRegressor</td>\n",
       "      <td>0.455841</td>\n",
       "    </tr>\n",
       "    <tr>\n",
       "      <td>2</td>\n",
       "      <td>RandomForestRegressor</td>\n",
       "      <td>0.631774</td>\n",
       "    </tr>\n",
       "  </tbody>\n",
       "</table>\n",
       "</div>"
      ],
      "text/plain": [
       "                   Model  CV Score (R2)\n",
       "0                  Lasso       0.669488\n",
       "1    KNeighborsRegressor       0.455841\n",
       "2  RandomForestRegressor       0.631774"
      ]
     },
     "execution_count": 30,
     "metadata": {},
     "output_type": "execute_result"
    }
   ],
   "source": [
    "CV_df"
   ]
  }
 ],
 "metadata": {
  "kernelspec": {
   "display_name": "Python 3",
   "language": "python",
   "name": "python3"
  },
  "language_info": {
   "codemirror_mode": {
    "name": "ipython",
    "version": 3
   },
   "file_extension": ".py",
   "mimetype": "text/x-python",
   "name": "python",
   "nbconvert_exporter": "python",
   "pygments_lexer": "ipython3",
   "version": "3.7.4"
  }
 },
 "nbformat": 4,
 "nbformat_minor": 2
}
